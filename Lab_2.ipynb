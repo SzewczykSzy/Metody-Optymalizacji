{
 "cells": [
  {
   "cell_type": "markdown",
   "metadata": {},
   "source": [
    "# Optymalizacja wielokryterialna\n",
    "\n",
    "## Zespół:\n",
    "- Szymon Szewczyk\n",
    "- Łukasz Szyszka"
   ]
  },
  {
   "cell_type": "code",
   "execution_count": 1,
   "metadata": {
    "collapsed": true,
    "pycharm": {
     "name": "#%%\n"
    }
   },
   "outputs": [
    {
     "name": "stdout",
     "output_type": "stream",
     "text": [
      "Nondominated points: [9]\n"
     ]
    }
   ],
   "source": [
    "def nondominated_points(X):\n",
    "    \"\"\"\n",
    "    Input: A list X of values\n",
    "    Output: A list P containing the nondominated points\n",
    "    \"\"\"\n",
    "    P = []  # List of nondominated points\n",
    "\n",
    "    i = 0  # Outer loop index\n",
    "    while i < len(X):\n",
    "        Y = X[i]  # Assign Y to the current element\n",
    "        fl = 0  # Flag for changes in the inner loop\n",
    "\n",
    "        j = i + 1  # Inner loop starts from the next element\n",
    "        while j < len(X):\n",
    "            if Y <= X[j]:\n",
    "                X.pop(j)  # Remove X[j] if Y dominates it (Y ≤ X[j])\n",
    "            elif X[j] <= Y:\n",
    "                X.pop(i)  # Remove Y if X[j] dominates it (X[j] ≤ Y)\n",
    "                Y = X[j]  # Update Y to the new value\n",
    "                fl = 1  # Set flag to indicate a change\n",
    "            else:\n",
    "                j += 1  # Move to the next element in the list\n",
    "\n",
    "        P.append(Y)  # Add Y to the list of nondominated points\n",
    "\n",
    "        if fl == 0:\n",
    "            X.pop(i)  # If no changes occurred, remove Y from the list\n",
    "        else:\n",
    "            i += 1  # Move to the next element only if there were changes\n",
    "\n",
    "    return P\n",
    "\n",
    "# Example usage\n",
    "X = [10, 15, 8, 7, 5, 9]  # Sample input\n",
    "P = nondominated_points(X)\n",
    "print(\"Nondominated points:\", P)\n"
   ]
  }
 ],
 "metadata": {
  "kernelspec": {
   "display_name": "Python 3",
   "language": "python",
   "name": "python3"
  },
  "language_info": {
   "codemirror_mode": {
    "name": "ipython",
    "version": 2
   },
   "file_extension": ".py",
   "mimetype": "text/x-python",
   "name": "python",
   "nbconvert_exporter": "python",
   "pygments_lexer": "ipython2",
   "version": "2.7.6"
  }
 },
 "nbformat": 4,
 "nbformat_minor": 0
}
