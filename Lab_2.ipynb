{
 "cells": [
  {
   "cell_type": "code",
   "execution_count": 2,
   "metadata": {
    "collapsed": true,
    "pycharm": {
     "name": "#%%\n"
    }
   },
   "outputs": [
    {
     "name": "stdout",
     "output_type": "stream",
     "text": [
      "Nondominated points: [9]\n"
     ]
    }
   ],
   "source": [
    "def nondominated_points(X):\n",
    "    \"\"\"\n",
    "    Input: A list X of values\n",
    "    Output: A list P containing the nondominated points\n",
    "    \"\"\"\n",
    "    P = []  # List of nondominated points\n",
    "\n",
    "    i = 0  # Outer loop index\n",
    "    while i < len(X):\n",
    "        Y = X[i]  # Assign Y to the current element\n",
    "        fl = 0  # Flag for changes in the inner loop\n",
    "\n",
    "        j = i + 1  # Inner loop starts from the next element\n",
    "        while j < len(X):\n",
    "            if Y <= X[j]:\n",
    "                X.pop(j)  # Remove X[j] if Y dominates it (Y ≤ X[j])\n",
    "            elif X[j] <= Y:\n",
    "                X.pop(i)  # Remove Y if X[j] dominates it (X[j] ≤ Y)\n",
    "                Y = X[j]  # Update Y to the new value\n",
    "                fl = 1  # Set flag to indicate a change\n",
    "            else:\n",
    "                j += 1  # Move to the next element in the list\n",
    "\n",
    "        P.append(Y)  # Add Y to the list of nondominated points\n",
    "\n",
    "        if fl == 0:\n",
    "            X.pop(i)  # If no changes occurred, remove Y from the list\n",
    "        else:\n",
    "            i += 1  # Move to the next element only if there were changes\n",
    "\n",
    "    return P\n",
    "\n",
    "# Example usage\n",
    "X = [10, 15, 8, 7, 5, 9]  # Sample input\n",
    "P = nondominated_points(X)\n",
    "print(\"Nondominated points:\", P)\n"
   ]
  },
  {
   "cell_type": "code",
   "execution_count": 3,
   "outputs": [
    {
     "name": "stdout",
     "output_type": "stream",
     "text": [
      "Nondominated points with filtration: [5]\n"
     ]
    }
   ],
   "source": [
    "def nondominated_points_with_filtration(X):\n",
    "    \"\"\"\n",
    "    Input: A list X of values\n",
    "    Output: A list P containing the nondominated points, with filtration applied\n",
    "    \"\"\"\n",
    "    P = []  # List of nondominated points\n",
    "\n",
    "    while len(X) > 1:\n",
    "        Y = X[0]  # Start with the first element in the list\n",
    "\n",
    "        i = 1  # Start inner loop from the second element\n",
    "        while i < len(X):\n",
    "            if Y <= X[i]:\n",
    "                X.pop(i)  # Remove X[i] if Y dominates it (Y ≤ X[i])\n",
    "            elif X[i] <= Y:\n",
    "                Y = X.pop(i)  # Update Y to X[i] and remove Y from X\n",
    "            else:\n",
    "                i += 1  # Move to the next element if neither dominates\n",
    "\n",
    "        P.append(Y)  # Add Y to the list of nondominated points\n",
    "\n",
    "        # Filtration step: remove all elements from X such that Y ≤ X[k]\n",
    "        X = [x for x in X if not (Y <= x)]\n",
    "\n",
    "    if len(X) == 1:\n",
    "        P.append(X[0])  # If only one element remains, it's nondominated\n",
    "\n",
    "    return P\n",
    "\n",
    "# Example usage\n",
    "X = [10, 15, 8, 7, 5, 9]  # Sample input\n",
    "P = nondominated_points_with_filtration(X)\n",
    "print(\"Nondominated points with filtration:\", P)"
   ],
   "metadata": {
    "collapsed": false,
    "pycharm": {
     "name": "#%%\n"
    }
   }
  },
  {
   "cell_type": "code",
   "execution_count": null,
   "outputs": [],
   "source": [],
   "metadata": {
    "collapsed": false,
    "pycharm": {
     "name": "#%%\n"
    }
   }
  }
 ],
 "metadata": {
  "kernelspec": {
   "display_name": "Python 3",
   "language": "python",
   "name": "python3"
  },
  "language_info": {
   "codemirror_mode": {
    "name": "ipython",
    "version": 2
   },
   "file_extension": ".py",
   "mimetype": "text/x-python",
   "name": "python",
   "nbconvert_exporter": "python",
   "pygments_lexer": "ipython2",
   "version": "2.7.6"
  }
 },
 "nbformat": 4,
 "nbformat_minor": 0
}