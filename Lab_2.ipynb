{
 "cells": [
  {
   "cell_type": "markdown",
   "metadata": {
    "collapsed": false,
    "pycharm": {
     "name": "#%% md\n"
    }
   },
   "source": [
    "# Optymalizacja wielokryterialna\n",
    "\n",
    "## Zespół:\n",
    "- Szymon Szewczyk\n",
    "- Łukasz Szyszka"
   ]
  },
  {
   "cell_type": "code",
   "execution_count": 1,
   "metadata": {
    "collapsed": false,
    "pycharm": {
     "name": "#%%\n"
    }
   },
   "outputs": [],
   "source": [
    "import numpy as np\n",
    "import timeit\n",
    "import math"
   ]
  },
  {
   "cell_type": "markdown",
   "metadata": {
    "pycharm": {
     "name": "#%% md\n"
    }
   },
   "source": [
    "## Algorytm bez filtracji"
   ]
  },
  {
   "cell_type": "code",
   "execution_count": 2,
   "metadata": {
    "pycharm": {
     "name": "#%%\n"
    }
   },
   "outputs": [
    {
     "name": "stdout",
     "output_type": "stream",
     "text": [
      "Liczba porównań: 42\n",
      "(3, 3)\n",
      "(1, 8)\n",
      "(4, 1)\n"
     ]
    }
   ],
   "source": [
    "def naiveNonFilter(X:list[tuple]):\n",
    "    P = []\n",
    "    number_of_comparisons = 0\n",
    "    l = len(X)\n",
    "\n",
    "    for i in range(l):\n",
    "        X_temp = X.copy()\n",
    "        Y = X[0]\n",
    "        l = len(X)\n",
    "        fl = 0\n",
    "        for j in range(1, l):\n",
    "            if j >= len(X):\n",
    "                break\n",
    "            number_of_comparisons += 2\n",
    "            if Y[0] <= X[j][0] and Y[1] <= X[j][1]:\n",
    "                X_temp.remove(X[j])\n",
    "            elif X[j][0] <= Y[0] and X[j][1] <= Y[1]:\n",
    "                Y_temp = X[j]\n",
    "                X_temp.remove(Y)\n",
    "                Y = Y_temp\n",
    "                fl = 1\n",
    "        if Y not in P:\n",
    "            P.append(Y)\n",
    "        if fl == 0:\n",
    "            X_temp.remove(Y)\n",
    "        if len(X_temp) == 1:\n",
    "            if X_temp[0] not in P:\n",
    "                P.append(X_temp[0])\n",
    "            break\n",
    "        X = X_temp.copy()\n",
    "    return P, number_of_comparisons\n",
    "\n",
    "X = [(5, 5), (3, 6), (4, 4), (5, 3), (3, 3), (1, 8), (3, 4), (4, 5), (3, 10), (6, 6), (4, 1), (3, 5)]\n",
    "P, no = naiveNonFilter(X)\n",
    "\n",
    "print(f\"Liczba porównań: {no}\")\n",
    "for p in P:\n",
    "    print(p)"
   ]
  },
  {
   "cell_type": "markdown",
   "source": [
    "# Algorytm z filtracją punktów zdominowanych"
   ],
   "metadata": {
    "collapsed": false,
    "pycharm": {
     "name": "#%% md\n"
    }
   }
  },
  {
   "cell_type": "code",
   "execution_count": 3,
   "metadata": {
    "pycharm": {
     "name": "#%%\n"
    }
   },
   "outputs": [
    {
     "name": "stdout",
     "output_type": "stream",
     "text": [
      "Liczba porównań: 32\n",
      "(3, 3)\n",
      "(4, 1)\n",
      "(1, 8)\n"
     ]
    }
   ],
   "source": [
    "def naiveWithFilter(X:list[tuple]):\n",
    "    P = []\n",
    "    number_of_comparisons = 0\n",
    "    l = len(X)\n",
    "\n",
    "    for i in range(l):\n",
    "        X_temp = X.copy()\n",
    "        l = len(X)\n",
    "        if i >= l:\n",
    "            break\n",
    "        Y = X[i]\n",
    "        fl = 0\n",
    "        for j in range(i + 1, l):\n",
    "            number_of_comparisons += 2\n",
    "            if Y[0] <= X[j][0] and Y[1] <= X[j][1]:\n",
    "                X_temp.remove(X[j])\n",
    "            elif X[j][0] <= Y[0] and X[j][1] <= Y[1]:\n",
    "                Y_temp = X[j]\n",
    "                X_temp.remove(Y)\n",
    "                Y = Y_temp\n",
    "        P.append(Y)\n",
    "        X_temp.remove(Y)\n",
    "        X = X_temp.copy()\n",
    "\n",
    "        for k in range(len(X)):\n",
    "            number_of_comparisons += 2\n",
    "            if Y[0] <= X[k][0] and Y[1] <= X[k][1]:\n",
    "                X_temp.remove(X[k])\n",
    "\n",
    "        if len(X_temp) == 1:\n",
    "            P.append(X_temp[0])\n",
    "            break\n",
    "        X = X_temp.copy()\n",
    "    return P, number_of_comparisons\n",
    "\n",
    "X = [(5, 5), (3, 6), (4, 4), (5, 3), (3, 3), (1, 8), (3, 4), (4, 5), (3, 10), (6, 6), (4, 1), (3, 5)]\n",
    "P, no = naiveWithFilter(X)\n",
    "\n",
    "print(f\"Liczba porównań: {no}\")\n",
    "for p in P:\n",
    "    print(p)"
   ]
  },
  {
   "cell_type": "markdown",
   "source": [
    "# Algorytm oparty o punk idealny"
   ],
   "metadata": {
    "collapsed": false,
    "pycharm": {
     "name": "#%% md\n"
    }
   }
  },
  {
   "cell_type": "code",
   "execution_count": 4,
   "metadata": {
    "pycharm": {
     "name": "#%%\n"
    }
   },
   "outputs": [
    {
     "name": "stdout",
     "output_type": "stream",
     "text": [
      "Liczba porównań: 24\n",
      "(3, 3)\n",
      "(4, 1)\n",
      "(1, 8)\n"
     ]
    }
   ],
   "source": [
    "def distance(p1, p2):\n",
    "    return math.sqrt((p1[0] - p2[0]) ** 2 + (p1[1] - p2[1]) ** 2)\n",
    "\n",
    "\n",
    "def naiveIdealPoint(X:list[tuple]):\n",
    "    xmin_x = min(point[0] for point in X)\n",
    "    xmin_y = min(point[1] for point in X)\n",
    "    ideal = (xmin_x, xmin_y)\n",
    "\n",
    "    distances = [(distance(p, ideal), idx) for idx, p in enumerate(X)]\n",
    "    distances.sort(key=lambda x: x[0])\n",
    "\n",
    "    sorted_indices = [index for _, index in distances]\n",
    "\n",
    "\n",
    "    P = []\n",
    "    number_of_comparisons = 0\n",
    "    M = len(X)\n",
    "    m = 0\n",
    "    X_temp = X.copy()\n",
    "\n",
    "    while len(X_temp) > 1:\n",
    "        current_p = X[sorted_indices[m]]\n",
    "        if current_p in X_temp:\n",
    "            P.append(current_p)\n",
    "            X_temp.remove(current_p)\n",
    "            M -= 1\n",
    "        \n",
    "        dominated_p = []\n",
    "        for p in X_temp:\n",
    "            number_of_comparisons += 2\n",
    "            if current_p[0] <= p[0] and current_p[1] <= p[1]:\n",
    "                dominated_p.append(p)\n",
    "        \n",
    "        for dp in dominated_p:\n",
    "            X_temp.remove(dp)\n",
    "            M -= 1\n",
    "        \n",
    "        m += 1\n",
    "    P.append(X_temp[0])\n",
    "    \n",
    "    return P, number_of_comparisons \n",
    "\n",
    "    \n",
    "X = [(5, 5), (3, 6), (4, 4), (5, 3), (3, 3), (1, 8), (3, 4), (4, 5), (3, 10), (6, 6), (4, 1), (3, 5)]\n",
    "P, no = naiveIdealPoint(X)\n",
    "\n",
    "print(f\"Liczba porównań: {no}\")\n",
    "for p in P:\n",
    "    print(p)"
   ]
  }
 ],
 "metadata": {
  "kernelspec": {
   "display_name": "myenv",
   "language": "python",
   "name": "python3"
  },
  "language_info": {
   "codemirror_mode": {
    "name": "ipython",
    "version": 3
   },
   "file_extension": ".py",
   "mimetype": "text/x-python",
   "name": "python",
   "nbconvert_exporter": "python",
   "pygments_lexer": "ipython3",
   "version": "3.9.20"
  }
 },
 "nbformat": 4,
 "nbformat_minor": 0
}