{
 "cells": [
  {
   "cell_type": "markdown",
   "source": [
    "# Optymalizacja wielokryterialna\n",
    "\n",
    "## Zespół:\n",
    "- Szymon Szewczyk\n",
    "- Łukasz Szyszka"
   ],
   "metadata": {
    "collapsed": false,
    "pycharm": {
     "name": "#%% md\n"
    }
   }
  },
  {
   "cell_type": "code",
   "execution_count": 6,
   "outputs": [
    {
     "name": "stdout",
     "output_type": "stream",
     "text": [
      "Nondominated points: [9]\n"
     ]
    }
   ],
   "source": [
    "def nondominated_points(X):\n",
    "    \"\"\"\n",
    "    Input: A list X of values\n",
    "    Output: A list P containing the nondominated points\n",
    "    \"\"\"\n",
    "    P = []  # List of nondominated points\n",
    "\n",
    "    i = 0  # Outer loop index\n",
    "    while i < len(X):\n",
    "        Y = X[i]  # Assign Y to the current element\n",
    "        fl = 0  # Flag for changes in the inner loop\n",
    "\n",
    "        j = i + 1  # Inner loop starts from the next element\n",
    "        while j < len(X):\n",
    "            if Y <= X[j]:\n",
    "                X.pop(j)  # Remove X[j] if Y dominates it (Y ≤ X[j])\n",
    "            elif X[j] <= Y:\n",
    "                X.pop(i)  # Remove Y if X[j] dominates it (X[j] ≤ Y)\n",
    "                Y = X[j]  # Update Y to the new value\n",
    "                fl = 1  # Set flag to indicate a change\n",
    "            else:\n",
    "                j += 1  # Move to the next element in the list\n",
    "\n",
    "        P.append(Y)  # Add Y to the list of nondominated points\n",
    "\n",
    "        if fl == 0:\n",
    "            X.pop(i)  # If no changes occurred, remove Y from the list\n",
    "        else:\n",
    "            i += 1  # Move to the next element only if there were changes\n",
    "\n",
    "    return P\n",
    "\n",
    "# Example usage\n",
    "X = [10, 15, 8, 7, 5, 9]  # Sample input\n",
    "P = nondominated_points(X)\n",
    "print(\"Nondominated points:\", P)\n"
   ],
   "metadata": {
    "collapsed": false,
    "pycharm": {
     "name": "#%%\n"
    }
   }
  },
  {
   "cell_type": "code",
   "execution_count": 7,
   "metadata": {
    "collapsed": true,
    "pycharm": {
     "name": "#%%\n"
    }
   },
   "outputs": [
    {
     "name": "stdout",
     "output_type": "stream",
     "text": [
      "Nondominated points with filtration: [5]\n"
     ]
    }
   ],
   "source": [
    "def nondominated_points(X):\n",
    "    \"\"\"\n",
    "    Input: A list X of values\n",
    "    Output: A list P containing the nondominated points\n",
    "    \"\"\"\n",
    "    P = []  # List of nondominated points\n",
    "\n",
    "    i = 0  # Outer loop index\n",
    "    while i < len(X):\n",
    "        Y = X[i]  # Assign Y to the current element\n",
    "        fl = 0  # Flag for changes in the inner loop\n",
    "\n",
    "        j = i + 1  # Inner loop starts from the next element\n",
    "        while j < len(X):\n",
    "            if Y <= X[j]:\n",
    "                X.pop(j)  # Remove X[j] if Y dominates it (Y ≤ X[j])\n",
    "            elif X[j] <= Y:\n",
    "                X.pop(i)  # Remove Y if X[j] dominates it (X[j] ≤ Y)\n",
    "                Y = X[j]  # Update Y to the new value\n",
    "                fl = 1  # Set flag to indicate a change\n",
    "            else:\n",
    "                j += 1  # Move to the next element in the list\n",
    "\n",
    "        P.append(Y)  # Add Y to the list of nondominated points\n",
    "\n",
    "        if fl == 0:\n",
    "            X.pop(i)  # If no changes occurred, remove Y from the list\n",
    "        else:\n",
    "            i += 1  # Move to the next element only if there were changes\n",
    "\n",
    "    return P\n",
    "\n",
    "# Example usage\n",
    "X = [10, 15, 8, 7, 5, 9]  # Sample input\n",
    "P = nondominated_points(X)\n",
    "print(\"Nondominated points:\", P)\n"
   ]
  },
  {
   "cell_type": "code",
   "execution_count": 8,
   "outputs": [
    {
     "name": "stdout",
     "output_type": "stream",
     "text": [
      "Nondominated points based on the ideal point method: [[3, 1], [2, 3]]\n"
     ]
    }
   ],
   "source": [
    "import numpy as np\n",
    "\n",
    "def ideal_point_algorithm(X):\n",
    "    \"\"\"\n",
    "    Input: A list X of points (as tuples or lists), where each point has multiple coordinates.\n",
    "    Output: A list P of nondominated points based on the ideal point method.\n",
    "    \"\"\"\n",
    "    P = []  # List of nondominated points\n",
    "\n",
    "    # Step 2: Calculate xmin(i) as the minimum of each coordinate across all points\n",
    "    X = np.array(X)  # Convert X to a numpy array for easier manipulation\n",
    "    k = X.shape[1]  # Number of coordinates per point\n",
    "    xmin = np.min(X, axis=0)  # Minimum values of each coordinate\n",
    "\n",
    "    # Step 4: Calculate the squared distance d(j) from xmin to each point X(j)\n",
    "    distances = np.sum((X - xmin) ** 2, axis=1)  # Squared Euclidean distances\n",
    "\n",
    "    # Step 5: Sort distances and get sorted indices\n",
    "    sorted_indices = np.argsort(distances)  # Indices of points sorted by distance\n",
    "    sorted_distances = distances[sorted_indices]  # Sorted distances\n",
    "\n",
    "    # Step 7: Initialize M as the number of points and m as the index counter\n",
    "    M = len(X)\n",
    "    m = 0\n",
    "\n",
    "    # Step 8: While loop to find nondominated points\n",
    "    while m < M:\n",
    "        # Get the current point X(J(m)) based on sorted index\n",
    "        current_point = X[sorted_indices[m]]\n",
    "\n",
    "        # Remove all points X(i) dominated by X(J(m))\n",
    "        X = np.array([x for i, x in enumerate(X) if not np.all(current_point <= x)])\n",
    "\n",
    "        # Add the current point to the list of nondominated points\n",
    "        P.append(current_point.tolist())\n",
    "\n",
    "        # Update M and m\n",
    "        M = len(X)\n",
    "        m += 1\n",
    "\n",
    "    return P\n",
    "\n",
    "# Example usage\n",
    "X = [\n",
    "    [2, 3],\n",
    "    [1, 4],\n",
    "    [3, 1],\n",
    "    [4, 2],\n",
    "    [5, 5]\n",
    "]  # Example input list of points (2D in this case)\n",
    "P = ideal_point_algorithm(X)\n",
    "print(\"Nondominated points based on the ideal point method:\", P)"
   ],
   "metadata": {
    "collapsed": false,
    "pycharm": {
     "name": "#%%\n"
    }
   }
  },
  {
   "cell_type": "code",
   "execution_count": null,
   "outputs": [],
   "source": [],
   "metadata": {
    "collapsed": false,
    "pycharm": {
     "name": "#%%\n"
    }
   }
  }
 ],
 "metadata": {
  "kernelspec": {
   "display_name": "Python 3",
   "language": "python",
   "name": "python3"
  },
  "language_info": {
   "codemirror_mode": {
    "name": "ipython",
    "version": 2
   },
   "file_extension": ".py",
   "mimetype": "text/x-python",
   "name": "python",
   "nbconvert_exporter": "python",
   "pygments_lexer": "ipython2",
   "version": "2.7.6"
  }
 },
 "nbformat": 4,
 "nbformat_minor": 0
}