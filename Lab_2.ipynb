{
 "cells": [
  {
   "cell_type": "markdown",
   "source": [
    "# Optymalizacja wielokryterialna\n",
    "\n",
    "## Zespół:\n",
    "- Szymon Szewczyk\n",
    "- Łukasz Szyszka"
   ],
   "metadata": {
    "collapsed": false,
    "pycharm": {
     "name": "#%% md\n"
    }
   }
  },
  {
   "cell_type": "code",
   "execution_count": 1,
   "outputs": [],
   "source": [
    "import numpy as np\n",
    "import timeit"
   ],
   "metadata": {
    "collapsed": false,
    "pycharm": {
     "name": "#%%\n"
    }
   }
  },
  {
   "cell_type": "code",
   "execution_count": 2,
   "outputs": [
    {
     "name": "stdout",
     "output_type": "stream",
     "text": [
      "Naive method (no filtration) nondominated points: [(1, 8)]\n"
     ]
    }
   ],
   "source": [
    "def naive_nondominated_no_filter(X):\n",
    "    \"\"\"\n",
    "    Naive algorithm without filtering dominated points after finding each nondominated point.\n",
    "    \"\"\"\n",
    "    P = []  # List of nondominated points\n",
    "\n",
    "    i = 0\n",
    "    while i < len(X):\n",
    "        Y = X[i]\n",
    "        fl = 0\n",
    "\n",
    "        j = i + 1\n",
    "        while j < len(X):\n",
    "            if Y <= X[j]:\n",
    "                X.pop(j)\n",
    "            elif X[j] <= Y:\n",
    "                X.pop(i)\n",
    "                Y = X[j]\n",
    "                fl = 1\n",
    "            else:\n",
    "                j += 1\n",
    "\n",
    "        P.append(Y)\n",
    "        if fl == 0:\n",
    "            X.pop(i)\n",
    "        else:\n",
    "            i += 1\n",
    "\n",
    "    return P\n",
    "\n",
    "# Example usage\n",
    "X1 = [(5,5), (3,6), (4,4), (5,3), (3,3), (1,8), (3,4), (4,5), (3,10), (6,6), (4, 1), (3, 5)]\n",
    "P_no_filter = naive_nondominated_no_filter(X1[:])\n",
    "print(\"Naive method (no filtration) nondominated points:\", P_no_filter)\n"
   ],
   "metadata": {
    "collapsed": false,
    "pycharm": {
     "name": "#%%\n"
    }
   }
  },
  {
   "cell_type": "code",
   "execution_count": 3,
   "metadata": {
    "collapsed": true,
    "pycharm": {
     "name": "#%%\n"
    }
   },
   "outputs": [
    {
     "name": "stdout",
     "output_type": "stream",
     "text": [
      "Naive method (with filtration) nondominated points: [(1, 8)]\n"
     ]
    }
   ],
   "source": [
    "def naive_nondominated_with_filtration(X):\n",
    "    \"\"\"\n",
    "    Naive algorithm with filtration after finding each nondominated point.\n",
    "    \"\"\"\n",
    "    P = []\n",
    "\n",
    "    i = 0\n",
    "    while len(X) > 1:\n",
    "        Y = X[i]\n",
    "\n",
    "        j = i + 1\n",
    "        while j < len(X):\n",
    "            if Y <= X[j]:\n",
    "                X.pop(j)\n",
    "            elif X[j] <= Y:\n",
    "                Y = X.pop(j)\n",
    "            else:\n",
    "                j += 1\n",
    "\n",
    "        P.append(Y)\n",
    "        # Filtration: remove all points dominated by Y\n",
    "        X = [x for x in X if not (Y <= x)]\n",
    "\n",
    "    if len(X) == 1:\n",
    "        P.append(X[0])\n",
    "\n",
    "    return P\n",
    "\n",
    "# Example usage\n",
    "X2 = [(5,5), (3,6), (4,4), (5,3), (3,3), (1,8), (3,4), (4,5), (3,10), (6,6), (4, 1), (3, 5)]\n",
    "P_with_filter = naive_nondominated_with_filtration(X2[:])\n",
    "print(\"Naive method (with filtration) nondominated points:\", P_with_filter)\n"
   ]
  },
  {
   "cell_type": "code",
   "execution_count": 4,
   "outputs": [
    {
     "name": "stdout",
     "output_type": "stream",
     "text": [
      "Ideal point method nondominated points: [[3, 3], [4, 1], [1, 8]]\n"
     ]
    }
   ],
   "source": [
    "def ideal_point_method(X):\n",
    "    \"\"\"\n",
    "    Ideal point method with filtration based on distances from the ideal point.\n",
    "    \"\"\"\n",
    "    P = []  # List of nondominated points\n",
    "\n",
    "    X = np.array(X)  # Convert to NumPy array for easier manipulation\n",
    "\n",
    "    # Step 2: Calculate the ideal point as the minimum of each coordinate\n",
    "    xmin = np.min(X, axis=0)\n",
    "\n",
    "    while len(X) > 0:\n",
    "        # Step 4: Calculate squared Euclidean distances from the ideal point\n",
    "        distances = np.sum((X - xmin) ** 2, axis=1)\n",
    "\n",
    "        # Step 5: Sort distances and get sorted indices\n",
    "        sorted_indices = np.argsort(distances)\n",
    "\n",
    "        # Step 8: Get the current point X(J(m)) based on sorted index\n",
    "        current_point = X[sorted_indices[0]]\n",
    "\n",
    "        # Add the current point to the list of nondominated points\n",
    "        P.append(current_point.tolist())\n",
    "\n",
    "        # Step 8: Remove all points dominated by the current point\n",
    "        X = np.array([x for x in X if not np.all(current_point <= x)])\n",
    "\n",
    "    return P\n",
    "\n",
    "# Example usage\n",
    "X3 = [(5,5), (3,6), (4,4), (5,3), (3,3), (1,8), (3,4), (4,5), (3,10), (6,6), (4, 1), (3, 5)]\n",
    "P_ideal_point = ideal_point_method(X3[:])\n",
    "print(\"Ideal point method nondominated points:\", P_ideal_point)"
   ],
   "metadata": {
    "collapsed": false,
    "pycharm": {
     "name": "#%%\n"
    }
   }
  },
  {
   "cell_type": "code",
   "execution_count": 5,
   "outputs": [
    {
     "name": "stdout",
     "output_type": "stream",
     "text": [
      "Naive method (no filtration) took 0.000007 seconds\n",
      "Nondominated points (no filtration): [(1, 8)]\n",
      "Naive method (with filtration) took 0.000009 seconds\n",
      "Nondominated points (with filtration): [(1, 8)]\n",
      "Ideal point method took 0.000211 seconds\n",
      "Nondominated points (ideal point method): [[3, 3], [4, 1], [1, 8]]\n"
     ]
    }
   ],
   "source": [
    "X = [(5,5), (3,6), (4,4), (5,3), (3,3), (1,8), (3,4), (4,5), (3,10), (6,6), (4, 1), (3, 5)]\n",
    "\n",
    "# Measure execution time using timeit and display results\n",
    "\n",
    "# Naive method without filtration\n",
    "time_no_filter = timeit.timeit(lambda: naive_nondominated_no_filter(X[:]), number=1)\n",
    "P_no_filter = naive_nondominated_no_filter(X[:])\n",
    "print(f\"Naive method (no filtration) took {time_no_filter:.6f} seconds\")\n",
    "print(\"Nondominated points (no filtration):\", P_no_filter)\n",
    "\n",
    "# Naive method with filtration\n",
    "time_with_filter = timeit.timeit(lambda: naive_nondominated_with_filtration(X[:]), number=1)\n",
    "P_with_filter = naive_nondominated_with_filtration(X[:])\n",
    "print(f\"Naive method (with filtration) took {time_with_filter:.6f} seconds\")\n",
    "print(\"Nondominated points (with filtration):\", P_with_filter)\n",
    "\n",
    "# Ideal point method\n",
    "time_ideal_point = timeit.timeit(lambda: ideal_point_method(X[:]), number=1)\n",
    "P_ideal_point = ideal_point_method(X[:])\n",
    "print(f\"Ideal point method took {time_ideal_point:.6f} seconds\")\n",
    "print(\"Nondominated points (ideal point method):\", P_ideal_point)"
   ],
   "metadata": {
    "collapsed": false,
    "pycharm": {
     "name": "#%%\n"
    }
   }
  },
  {
   "cell_type": "code",
   "execution_count": null,
   "outputs": [],
   "source": [],
   "metadata": {
    "collapsed": false,
    "pycharm": {
     "name": "#%%\n"
    }
   }
  }
 ],
 "metadata": {
  "kernelspec": {
   "display_name": "Python 3",
   "language": "python",
   "name": "python3"
  },
  "language_info": {
   "codemirror_mode": {
    "name": "ipython",
    "version": 2
   },
   "file_extension": ".py",
   "mimetype": "text/x-python",
   "name": "python",
   "nbconvert_exporter": "python",
   "pygments_lexer": "ipython2",
   "version": "2.7.6"
  }
 },
 "nbformat": 4,
 "nbformat_minor": 0
}